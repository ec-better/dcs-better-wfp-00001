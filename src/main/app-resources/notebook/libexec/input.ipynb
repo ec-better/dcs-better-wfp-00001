{
 "cells": [
  {
   "cell_type": "code",
   "execution_count": 19,
   "metadata": {
    "collapsed": false,
    "scrolled": true
   },
   "outputs": [],
   "source": [
    "import os\n",
    "\n",
    "import numpy as np\n",
    "import matplotlib\n",
    "import matplotlib.pyplot as plt\n",
    "import snappy\n",
    "%matplotlib inline\n",
    "import dateutil.parser as parser\n",
    "import gc"
   ]
  },
  {
   "cell_type": "code",
   "execution_count": 20,
   "metadata": {
    "collapsed": true
   },
   "outputs": [],
   "source": [
    "data_path = \"/workspace/data\""
   ]
  },
  {
   "cell_type": "code",
   "execution_count": 21,
   "metadata": {
    "collapsed": true
   },
   "outputs": [],
   "source": [
    "s2_identifier = 'S2A_MSIL1C_20170909T060631_N0205_R134_T42SVG_20170909T061506'"
   ]
  },
  {
   "cell_type": "code",
   "execution_count": 22,
   "metadata": {
    "collapsed": true
   },
   "outputs": [],
   "source": [
    "lon = 68.08586"
   ]
  },
  {
   "cell_type": "code",
   "execution_count": 23,
   "metadata": {
    "collapsed": true
   },
   "outputs": [],
   "source": [
    "lat = 37.20143"
   ]
  },
  {
   "cell_type": "code",
   "execution_count": 24,
   "metadata": {
    "collapsed": true
   },
   "outputs": [],
   "source": [
    "extent = 0.02"
   ]
  },
  {
   "cell_type": "code",
   "execution_count": 25,
   "metadata": {
    "collapsed": true
   },
   "outputs": [],
   "source": [
    "s2_reference = ''"
   ]
  },
  {
   "cell_type": "code",
   "execution_count": 26,
   "metadata": {
    "collapsed": false
   },
   "outputs": [],
   "source": [
    "s2prd = \"%s/%s/%s.SAFE/MTD_MSIL1C.xml\" % (data_path, s2_identifier, s2_identifier)\n",
    "product = snappy.ProductIO.readProduct(s2prd)\n",
    "\n",
    "width = product.getSceneRasterWidth()\n",
    "height = product.getSceneRasterHeight()\n",
    "name = product.getName()\n",
    "description = product.getDescription()\n",
    "band_names = product.getBandNames()"
   ]
  },
  {
   "cell_type": "code",
   "execution_count": 30,
   "metadata": {
    "collapsed": false
   },
   "outputs": [
    {
     "name": "stdout",
     "output_type": "stream",
     "text": [
      "09-SEP-2017 06:06:31.026000\n",
      "09-SEP-2017 06:06:31.026000\n"
     ]
    }
   ],
   "source": [
    "print(product.getStartTime())\n",
    "print(product.getEndTime())"
   ]
  },
  {
   "cell_type": "code",
   "execution_count": 31,
   "metadata": {
    "collapsed": false
   },
   "outputs": [],
   "source": [
    "snappy.GPF.getDefaultInstance().getOperatorSpiRegistry().loadOperatorSpis()\n",
    "\n",
    "HashMap = snappy.jpy.get_type('java.util.HashMap')\n",
    "\n",
    "parameters = HashMap()\n",
    "parameters.put('referenceBand', 'B4')\n",
    "\n",
    "resample = snappy.GPF.createProduct('Resample', parameters, product)"
   ]
  },
  {
   "cell_type": "code",
   "execution_count": 32,
   "metadata": {
    "collapsed": true
   },
   "outputs": [],
   "source": [
    "savi_expr = '! opaque_clouds_10m and ! cirrus_clouds_10m and ! nodata_B8 and ! defective_B8 ? (1+0.16) * (B8 - B4)/(B8 + B4 + 0.16) : -999'"
   ]
  },
  {
   "cell_type": "code",
   "execution_count": 33,
   "metadata": {
    "collapsed": true
   },
   "outputs": [],
   "source": [
    "cloud_expr = 'opaque_clouds_10m ? 1 : 0'"
   ]
  },
  {
   "cell_type": "code",
   "execution_count": 34,
   "metadata": {
    "collapsed": false
   },
   "outputs": [],
   "source": [
    "BandDescriptor = snappy.jpy.get_type('org.esa.snap.core.gpf.common.BandMathsOp$BandDescriptor')\n",
    "\n",
    "targetBand0 = BandDescriptor()\n",
    "targetBand0.name = 'savi'\n",
    "targetBand0.type = 'float32'\n",
    "targetBand0.expression = savi_expr\n",
    "\n",
    "targetBand1 = BandDescriptor()\n",
    "targetBand1.name = 'cloud_mask'\n",
    "targetBand1.type = 'float32'\n",
    "targetBand1.expression = cloud_expr\n",
    "\n",
    "targetBands = snappy.jpy.array('org.esa.snap.core.gpf.common.BandMathsOp$BandDescriptor', 2)\n",
    "targetBands[0] = targetBand0\n",
    "targetBands[1] = targetBand1\n",
    "\n",
    "parameters = HashMap()\n",
    "parameters.put('targetBands', targetBands)"
   ]
  },
  {
   "cell_type": "code",
   "execution_count": 35,
   "metadata": {
    "collapsed": false
   },
   "outputs": [],
   "source": [
    "bandmath = snappy.GPF.createProduct('BandMaths', parameters, product)"
   ]
  },
  {
   "cell_type": "code",
   "execution_count": 36,
   "metadata": {
    "collapsed": true
   },
   "outputs": [],
   "source": [
    "p1 = str(lon - extent) + ' ' + str(lat - extent)\n",
    "p2 = str(lon + extent) + ' ' + str(lat - extent)\n",
    "p3 = str(lon + extent) + ' ' + str(lat + extent)\n",
    "p4 = str(lon - extent) + ' ' + str(lat + extent)\n",
    "\n",
    "wkt = 'POLYGON((%s, %s, %s, %s, %s))' % (p1, p2, p3, p4, p1)"
   ]
  },
  {
   "cell_type": "code",
   "execution_count": 37,
   "metadata": {
    "collapsed": false
   },
   "outputs": [],
   "source": [
    "WKTReader = snappy.jpy.get_type('com.vividsolutions.jts.io.WKTReader')\n",
    "\n",
    "geom = WKTReader().read(wkt)\n",
    "\n",
    "HashMap = snappy.jpy.get_type('java.util.HashMap')    \n",
    "\n",
    "parameters = HashMap()\n",
    "parameters.put('copyMetadata', True)\n",
    "parameters.put('geoRegion', geom)\n",
    "\n",
    "subset = snappy.GPF.createProduct('Subset', parameters, bandmath)"
   ]
  },
  {
   "cell_type": "code",
   "execution_count": 17,
   "metadata": {
    "collapsed": false
   },
   "outputs": [
    {
     "data": {
      "text/plain": [
       "0"
      ]
     },
     "execution_count": 17,
     "metadata": {},
     "output_type": "execute_result"
    }
   ],
   "source": [
    "resample = None\n",
    "bandmath = None\n",
    "gc.collect()"
   ]
  },
  {
   "cell_type": "code",
   "execution_count": 18,
   "metadata": {
    "collapsed": false
   },
   "outputs": [],
   "source": [
    "snappy.ProductIO.writeProduct(subset, 'savi.tif', 'GeoTIFF')"
   ]
  },
  {
   "cell_type": "code",
   "execution_count": 49,
   "metadata": {
    "collapsed": false
   },
   "outputs": [
    {
     "data": {
      "text/plain": [
       "'2017-09-09T06:06:31.026000'"
      ]
     },
     "execution_count": 49,
     "metadata": {},
     "output_type": "execute_result"
    }
   ],
   "source": [
    "parser.parse(subset.getEndTime().toString()).isoformat()"
   ]
  },
  {
   "cell_type": "code",
   "execution_count": 52,
   "metadata": {
    "collapsed": true
   },
   "outputs": [],
   "source": [
    "properties = open('savi.tif.properties', 'w')\n"
   ]
  },
  {
   "cell_type": "code",
   "execution_count": 53,
   "metadata": {
    "collapsed": true
   },
   "outputs": [],
   "source": [
    "properties.write('date=%s/%s' % (parser.parse(subset.getStartTime().toString()).isoformat(), \n",
    "                                 parser.parse(subset.getEndTime().toString()).isoformat()))"
   ]
  },
  {
   "cell_type": "code",
   "execution_count": 54,
   "metadata": {
    "collapsed": true
   },
   "outputs": [],
   "source": [
    "properties.close()"
   ]
  },
  {
   "cell_type": "code",
   "execution_count": null,
   "metadata": {
    "collapsed": true
   },
   "outputs": [],
   "source": []
  }
 ],
 "metadata": {
  "kernelspec": {
   "display_name": "Python 2",
   "language": "python",
   "name": "python2"
  },
  "language_info": {
   "codemirror_mode": {
    "name": "ipython",
    "version": 2
   },
   "file_extension": ".py",
   "mimetype": "text/x-python",
   "name": "python",
   "nbconvert_exporter": "python",
   "pygments_lexer": "ipython2",
   "version": "2.7.12"
  }
 },
 "nbformat": 4,
 "nbformat_minor": 2
}
